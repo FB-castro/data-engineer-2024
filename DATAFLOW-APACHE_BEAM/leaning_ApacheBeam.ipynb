{
 "cells": [
  {
   "cell_type": "code",
   "execution_count": 1,
   "metadata": {},
   "outputs": [],
   "source": [
    "import apache_beam as beam # type: ignore\n",
    "import json"
   ]
  },
  {
   "cell_type": "markdown",
   "metadata": {},
   "source": [
    "# Ler arquivo texto, separar e mostrar"
   ]
  },
  {
   "cell_type": "code",
   "execution_count": 5,
   "metadata": {},
   "outputs": [
    {
     "data": {
      "application/javascript": "\n        if (typeof window.interactive_beam_jquery == 'undefined') {\n          var jqueryScript = document.createElement('script');\n          jqueryScript.src = 'https://code.jquery.com/jquery-3.4.1.slim.min.js';\n          jqueryScript.type = 'text/javascript';\n          jqueryScript.onload = function() {\n            var datatableScript = document.createElement('script');\n            datatableScript.src = 'https://cdn.datatables.net/1.10.20/js/jquery.dataTables.min.js';\n            datatableScript.type = 'text/javascript';\n            datatableScript.onload = function() {\n              window.interactive_beam_jquery = jQuery.noConflict(true);\n              window.interactive_beam_jquery(document).ready(function($){\n                \n              });\n            }\n            document.head.appendChild(datatableScript);\n          };\n          document.head.appendChild(jqueryScript);\n        } else {\n          window.interactive_beam_jquery(document).ready(function($){\n            \n          });\n        }"
     },
     "metadata": {},
     "output_type": "display_data"
    },
    {
     "name": "stdout",
     "output_type": "stream",
     "text": [
      "['2019-04-27', '19805', '2', 'LAX', 'JFK', '944', '14', '1736', '-29', '269', '2475', '2']\n",
      "['2019-04-27', '19805', '3', 'JFK', 'LAX', '1224', '-6', '1614', '39', '371', '2475', '3']\n",
      "['2019-04-27', '19805', '4', 'LAX', 'JFK', '1240', '25', '2028', '-27', '264', '2475', '4']\n",
      "['2019-04-27', '19805', '5', 'DFW', 'HNL', '1300', '-5', '1650', '15', '510', '3784', '5']\n",
      "['2019-04-27', '19805', '6', 'OGG', 'DFW', '1901', '126', '640', '95', '385', '3711', '6']\n",
      "['2019-04-27', '19805', '7', 'DFW', 'OGG', '1410', '125', '1743', '138', '497', '3711', '7']\n",
      "['2019-04-27', '19805', '8', 'HNL', 'DFW', '1659', '4', '458', '-22', '398', '3784', '8']\n",
      "['2019-04-27', '19805', '9', 'JFK', 'LAX', '648', '-7', '1029', '19', '365', '2475', '9']\n",
      "['2019-04-27', '19805', '10', 'LAX', 'JFK', '2156', '21', '556', '1', '265', '2475', '10']\n",
      "['2019-04-27', '19805', '12', 'LAX', 'JFK', '1113', '-2', '1910', '-40', '267', '2475', '11']\n",
      "['2019-04-27', '19805', '14', 'OGG', 'LAX', '2235', '5', '618', '-17', '270', '2486', '12']\n",
      "['2019-04-27', '19805', '15', 'BOS', 'ORD', '611', '-9', '756', '-19', '129', '867', '13']\n",
      "['2019-04-27', '19805', '16', 'SFO', 'JFK', '1312', '17', '2107', '-33', '268', '2586', '14']\n",
      "['2019-04-27', '19805', '17', 'ATL', 'MIA', '630', '-5', '813', '-17', '83', '594', '15']\n",
      "['2019-04-27', '19805', '18', 'SFO', 'JFK', '22', '112', '833', '88', '288', '2586', '16']\n",
      "['2019-04-27', '19805', '19', 'JFK', 'LAX', '1024', '-6', '1353', '18', '359', '2475', '17']\n",
      "['2019-04-27', '19805', '20', 'SFO', 'JFK', '1715', '135', '130', '120', '277', '2586', '18']\n",
      "['2019-04-27', '19805', '21', 'JFK', 'LAX', '1906', '-4', '2246', '16', '359', '2475', '19']\n",
      "['2019-04-27', '19805', '22', 'LAX', 'JFK', '1458', '-2', '2336', '11', '272', '2475', '20']\n"
     ]
    },
    {
     "data": {
      "text/plain": [
       "<apache_beam.runners.portability.fn_api_runner.fn_runner.RunnerResult at 0x7203be8113d0>"
      ]
     },
     "execution_count": 5,
     "metadata": {},
     "output_type": "execute_result"
    }
   ],
   "source": [
    "\n",
    "p1 = beam.Pipeline()\n",
    "\n",
    "voos = (\n",
    "p1\n",
    "| \"Importar Dados\" >> beam.io.ReadFromText(\"voos_sample.csv\", skip_header_lines=1)\n",
    "| \"Separar por vírgula\" >> beam.Map(lambda record: record.split(','))\n",
    "| \"Mostrar resultados\" >> beam.Map(print)\n",
    ")\n",
    "\n",
    "p1.run()"
   ]
  },
  {
   "cell_type": "markdown",
   "metadata": {},
   "source": [
    "# Criar objetos (Tupla e Lista)"
   ]
  },
  {
   "cell_type": "code",
   "execution_count": 6,
   "metadata": {},
   "outputs": [
    {
     "name": "stdout",
     "output_type": "stream",
     "text": [
      "1\n",
      "2\n",
      "3\n",
      "('Felipe', 28)\n",
      "('Andressa', 42)\n"
     ]
    },
    {
     "data": {
      "text/plain": [
       "<apache_beam.runners.portability.fn_api_runner.fn_runner.RunnerResult at 0x7203be8e8b90>"
      ]
     },
     "execution_count": 6,
     "metadata": {},
     "output_type": "execute_result"
    }
   ],
   "source": [
    "p1 = beam.Pipeline()\n",
    "\n",
    "p1 | \"Tupla\" >> beam.Create( [ (\"Felipe\", 28), (\"Andressa\", 42) ] ) | \"Print Tupla\" >> beam.Map(print)\n",
    "p1 | \"Lista\" >> beam.Create( [ 1, 2, 3 ] ) | \"Print Lista\" >> beam.Map(print)\n",
    "\n",
    "p1.run()"
   ]
  },
  {
   "cell_type": "markdown",
   "metadata": {},
   "source": [
    "# Gravar objeto ou arquivos"
   ]
  },
  {
   "cell_type": "code",
   "execution_count": 7,
   "metadata": {},
   "outputs": [
    {
     "data": {
      "text/plain": [
       "<apache_beam.runners.portability.fn_api_runner.fn_runner.RunnerResult at 0x7203bec32180>"
      ]
     },
     "execution_count": 7,
     "metadata": {},
     "output_type": "execute_result"
    }
   ],
   "source": [
    "gravarObjeto = beam.Pipeline()\n",
    "\n",
    "voos = (\n",
    "    gravarObjeto\n",
    "    | \"Import Data\" >> beam.io.ReadFromText(\"voos_sample.csv\", skip_header_lines = 1) \n",
    "    | \"Split\" >> beam.Map(lambda record: record.split(','))\n",
    "    # | \"Show results\" >> beam.Map(print)\n",
    "    | \"Write data\" >> beam.io.WriteToText(\"voos.txt\")\n",
    ")\n",
    "\n",
    "gravarObjeto.run()"
   ]
  },
  {
   "cell_type": "markdown",
   "metadata": {},
   "source": [
    "# Command Map e Flat Map"
   ]
  },
  {
   "cell_type": "code",
   "execution_count": 28,
   "metadata": {},
   "outputs": [
    {
     "data": {
      "text/plain": [
       "<apache_beam.runners.portability.fn_api_runner.fn_runner.RunnerResult at 0x75f8681bb860>"
      ]
     },
     "execution_count": 28,
     "metadata": {},
     "output_type": "execute_result"
    }
   ],
   "source": [
    "#Flat map example\n",
    "p1 = beam.Pipeline()\n",
    "\n",
    "Colletion = (\n",
    "    p1\n",
    "    |beam.io.ReadFromText('poema.txt')\n",
    "    |beam.FlatMap(lambda record: record.split(' '))\n",
    "    |beam.io.WriteToText('results.txt')\n",
    ")\n",
    "\n",
    "p1.run()"
   ]
  },
  {
   "cell_type": "markdown",
   "metadata": {},
   "source": [
    "# Filter list and lambda"
   ]
  },
  {
   "cell_type": "code",
   "execution_count": 29,
   "metadata": {},
   "outputs": [
    {
     "name": "stdout",
     "output_type": "stream",
     "text": [
      "['2019-04-27', '19805', '2', 'LAX', 'JFK', '944', '14', '1736', '-29', '269', '2475', '2']\n",
      "['2019-04-27', '19805', '4', 'LAX', 'JFK', '1240', '25', '2028', '-27', '264', '2475', '4']\n",
      "['2019-04-27', '19805', '10', 'LAX', 'JFK', '2156', '21', '556', '1', '265', '2475', '10']\n",
      "['2019-04-27', '19805', '12', 'LAX', 'JFK', '1113', '-2', '1910', '-40', '267', '2475', '11']\n",
      "['2019-04-27', '19805', '22', 'LAX', 'JFK', '1458', '-2', '2336', '11', '272', '2475', '20']\n"
     ]
    },
    {
     "data": {
      "text/plain": [
       "<apache_beam.runners.portability.fn_api_runner.fn_runner.RunnerResult at 0x75f852f51100>"
      ]
     },
     "execution_count": 29,
     "metadata": {},
     "output_type": "execute_result"
    }
   ],
   "source": [
    "\n",
    "p1 = beam.Pipeline()\n",
    "\n",
    "#lambda\n",
    "voos = (\n",
    "p1\n",
    "| \"Import Data\" >> beam.io.ReadFromText(\"voos_sample.csv\", skip_header_lines=1)\n",
    "| \"Split\" >> beam.Map(lambda record: record.split(','))\n",
    "| \"Get Los Angels flights\" >> beam.Filter(lambda record: record[3] == \"LAX\")\n",
    "| \"Show results\" >> beam.Map(print)\n",
    ")\n",
    "\n",
    "p1.run()"
   ]
  },
  {
   "cell_type": "code",
   "execution_count": 31,
   "metadata": {},
   "outputs": [
    {
     "data": {
      "text/plain": [
       "<apache_beam.runners.portability.fn_api_runner.fn_runner.RunnerResult at 0x75f853eae2d0>"
      ]
     },
     "execution_count": 31,
     "metadata": {},
     "output_type": "execute_result"
    }
   ],
   "source": [
    "words = ['quatro', 'um']\n",
    "\n",
    "def findWord( i ) :\n",
    "    if i in words:\n",
    "        return True\n",
    "\n",
    "p1 = beam.Pipeline()\n",
    "Collection = (\n",
    "    p1\n",
    "    |beam.io.ReadFromText('poema.txt')\n",
    "    |beam.FlatMap(lambda record: record.split(' '))\n",
    "    |beam.Filter(findWord)\n",
    "    |beam.io.WriteToText('results_filtered.txt')\n",
    ")\n",
    "\n",
    "p1.run()"
   ]
  },
  {
   "cell_type": "markdown",
   "metadata": {},
   "source": [
    "# Flatten\n",
    "### Union with same data type in one Pcolletion"
   ]
  },
  {
   "cell_type": "code",
   "execution_count": 33,
   "metadata": {},
   "outputs": [
    {
     "name": "stdout",
     "output_type": "stream",
     "text": [
      "Vic\n",
      "Marta\n",
      "Tom\n",
      "Tulio\n",
      "Mary\n",
      "Joca\n",
      "Adão\n",
      "Jesus\n",
      "Mike\n"
     ]
    },
    {
     "data": {
      "text/plain": [
       "<apache_beam.runners.portability.fn_api_runner.fn_runner.RunnerResult at 0x75f852f89970>"
      ]
     },
     "execution_count": 33,
     "metadata": {},
     "output_type": "execute_result"
    }
   ],
   "source": [
    "p = beam.Pipeline()\n",
    "\n",
    "negros = ('Adão', 'Jesus', 'Mike')\n",
    "brancos = ('Tulio', 'Mary', 'Joca')\n",
    "indios = ('Vic', 'Marta', 'Tom')\n",
    "\n",
    "negros_pc = p | \"Criando Pcolletion negros\" >> beam.Create(negros)\n",
    "brancos_pc = p | \"Criando Pcolletion brancos\" >> beam.Create(brancos)\n",
    "indios_pc = p | \"Criando Pcolletion indios\" >> beam.Create(indios)\n",
    "\n",
    "pessoas = ((negros_pc, brancos_pc, indios_pc) | beam.Flatten()) | beam.Map(print)\n",
    "p.run()"
   ]
  },
  {
   "cell_type": "markdown",
   "metadata": {},
   "source": [
    "# CombinePerKey"
   ]
  },
  {
   "cell_type": "code",
   "execution_count": 35,
   "metadata": {},
   "outputs": [
    {
     "name": "stdout",
     "output_type": "stream",
     "text": [
      "('LAX', 94)\n",
      "('HNL', 15)\n",
      "('DFW', 95)\n",
      "('OGG', 138)\n",
      "('JFK', 220)\n"
     ]
    },
    {
     "data": {
      "text/plain": [
       "<apache_beam.runners.portability.fn_api_runner.fn_runner.RunnerResult at 0x75f853e365a0>"
      ]
     },
     "execution_count": 35,
     "metadata": {},
     "output_type": "execute_result"
    }
   ],
   "source": [
    "p1 = beam.Pipeline()\n",
    "\n",
    "Tempo_Atrasos = (\n",
    "    p1\n",
    "    | \"Import data\" >> beam.io.ReadFromText('voos_sample.csv')\n",
    "    | \"Split\" >> beam.Map(lambda record: record.split(','))\n",
    "    | \"LA Flights\" >> beam.Filter(lambda record: int(record[8]) > 0 )\n",
    "    | \"Create Pair\" >> beam.Map(lambda record: (record[4], int(record[8]) ) )\n",
    "    | \"Sum by key\" >> beam.CombinePerKey(sum)\n",
    "    | \"Show results\" >> beam.Map(print)\n",
    ")\n",
    "\n",
    "p1.run()"
   ]
  },
  {
   "cell_type": "markdown",
   "metadata": {},
   "source": [
    "# Combiners.Count.PerKey"
   ]
  },
  {
   "cell_type": "code",
   "execution_count": 8,
   "metadata": {},
   "outputs": [
    {
     "name": "stdout",
     "output_type": "stream",
     "text": [
      "('LAX', 4)\n",
      "('HNL', 1)\n",
      "('DFW', 1)\n",
      "('OGG', 1)\n",
      "('JFK', 4)\n"
     ]
    },
    {
     "data": {
      "text/plain": [
       "<apache_beam.runners.portability.fn_api_runner.fn_runner.RunnerResult at 0x72040a64d3d0>"
      ]
     },
     "execution_count": 8,
     "metadata": {},
     "output_type": "execute_result"
    }
   ],
   "source": [
    "p1 = beam.Pipeline()\n",
    "\n",
    "Qtd_Atrasos = (\n",
    "    p1\n",
    "    | \"Import data\" >> beam.io.ReadFromText(\"voos_sample.csv\", skip_header_lines=1)\n",
    "    | \"Split\" >> beam.Map(lambda record: record.split(','))\n",
    "    | \"LA Flights\" >> beam.Filter(lambda record: int(record[8]) > 0 )\n",
    "    | \"Create Pair\" >> beam.Map(lambda record: (record[4], int(record[8]) ) )\n",
    "    | \"Count by key\" >> beam.combiners.Count.PerKey()\n",
    "    | \"Show results\" >> beam.Map(print)\n",
    ")\n",
    "\n",
    "p1.run()"
   ]
  },
  {
   "cell_type": "markdown",
   "metadata": {},
   "source": [
    "# CoGroupByKey"
   ]
  },
  {
   "cell_type": "code",
   "execution_count": 10,
   "metadata": {},
   "outputs": [
    {
     "name": "stdout",
     "output_type": "stream",
     "text": [
      "('LAX', {'QTD_Delay': [4], 'Delay_Time': [92]})\n",
      "('HNL', {'QTD_Delay': [1], 'Delay_Time': [15]})\n",
      "('DFW', {'QTD_Delay': [1], 'Delay_Time': [95]})\n",
      "('OGG', {'QTD_Delay': [1], 'Delay_Time': [138]})\n",
      "('JFK', {'QTD_Delay': [4], 'Delay_Time': [220]})\n"
     ]
    },
    {
     "data": {
      "text/plain": [
       "<apache_beam.runners.portability.fn_api_runner.fn_runner.RunnerResult at 0x7203ae7ad250>"
      ]
     },
     "execution_count": 10,
     "metadata": {},
     "output_type": "execute_result"
    }
   ],
   "source": [
    "p1 = beam.Pipeline()\n",
    "\n",
    "Tempo_atrasos = (\n",
    "    p1\n",
    "    | \"Delay Import date\" >> beam.io.ReadFromText(\"voos_sample.csv\", skip_header_lines= 1)\n",
    "    | \"Delay Split\" >> beam.Map(lambda record: record.split(',') )\n",
    "    | \"Delay Get Flights\" >> beam.Filter(lambda record: int(record[8]) > 0 )\n",
    "    | \"Delay create pair\" >> beam.Map(lambda record: (record[4], int(record[8]) ) )\n",
    "    | \"Delay Sum by key\" >> beam.CombinePerKey(sum)\n",
    "    # | \"Show results\" >> beam.Map(print)\n",
    ")\n",
    "\n",
    "Qtd_Atrasos = (\n",
    "    p1\n",
    "    | \"QTD Import Data\" >> beam.io.ReadFromText(\"voos_sample.csv\", skip_header_lines= 1)\n",
    "    | \"QTD Split\" >> beam.Map(lambda record: record.split(',') )\n",
    "    | \"QTD get delay flights\" >> beam.Filter(lambda record: int(record[8]) > 0 )\n",
    "    | \"QTD create pair\" >> beam.Map(lambda record: (record[4], int(record[8]) ) )\n",
    "    | \"QTD count by key\" >> beam.combiners.Count.PerKey()\n",
    "    # | \"Show qtd results\" >> beam.Map(print)\n",
    ")\n",
    "\n",
    "Delay_tables = (\n",
    "    {'QTD_Delay' : Qtd_Atrasos, 'Delay_Time': Tempo_atrasos}\n",
    "    | \"Group BY\" >> beam.CoGroupByKey()\n",
    "    | beam.Map(print)\n",
    ")\n",
    "\n",
    "p1.run()"
   ]
  },
  {
   "cell_type": "markdown",
   "metadata": {},
   "source": [
    "# ParDo\n",
    "\n",
    "## declara funções com beam.DoFN"
   ]
  },
  {
   "cell_type": "code",
   "execution_count": 16,
   "metadata": {},
   "outputs": [
    {
     "name": "stdout",
     "output_type": "stream",
     "text": [
      "('LAX', {'QTD_atrasos': [4], 'Tempo_atrasos': [92]})\n",
      "('HNL', {'QTD_atrasos': [1], 'Tempo_atrasos': [15]})\n",
      "('DFW', {'QTD_atrasos': [1], 'Tempo_atrasos': [95]})\n",
      "('OGG', {'QTD_atrasos': [1], 'Tempo_atrasos': [138]})\n",
      "('JFK', {'QTD_atrasos': [4], 'Tempo_atrasos': [220]})\n"
     ]
    },
    {
     "data": {
      "text/plain": [
       "<apache_beam.runners.portability.fn_api_runner.fn_runner.RunnerResult at 0x7203ae227320>"
      ]
     },
     "execution_count": 16,
     "metadata": {},
     "output_type": "execute_result"
    }
   ],
   "source": [
    "p1 = beam.Pipeline()\n",
    "\n",
    "class filtro(beam.DoFn):\n",
    "    def process(self, record):\n",
    "        if int(record[8]) > 0:\n",
    "            return [record]\n",
    "\n",
    "\n",
    "Tempo_Atraso = (\n",
    "    p1\n",
    "    | \"Import Data\" >> beam.io.ReadFromText(r\"voos_sample.csv\", skip_header_lines=1)\n",
    "    | \"Split data\" >> beam.Map(lambda record: record.split(','))\n",
    "    | \"Delay Flights\" >> beam.ParDo(filtro())\n",
    "    | \"Create pair\" >> beam.Map(lambda record: (record[4], int(record[8]) ) )\n",
    "    | \"Sum by key\" >> beam.CombinePerKey(sum)\n",
    ")\n",
    "\n",
    "\n",
    "Qtd_Atrasos = (\n",
    "    p1\n",
    "    | \"QTD Import Data\" >> beam.io.ReadFromText(r\"voos_sample.csv\", skip_header_lines= 1)\n",
    "    | \"QTD Split data\" >> beam.Map(lambda record: record.split(','))\n",
    "    | \"QTD Delay Flights\" >> beam.ParDo(filtro())\n",
    "    | \"QTD Create pair\" >> beam.Map(lambda record: (record[4], int(record[8]) ) )\n",
    "    | \"QTD Count by key\" >> beam.combiners.Count.PerKey()\n",
    ")\n",
    "\n",
    "Tabela_delay = (\n",
    "    {'QTD_atrasos' : Qtd_Atrasos, 'Tempo_atrasos': Tempo_Atraso}\n",
    "    | \"QTD Group by\" >> beam.CoGroupByKey()\n",
    "    | beam.Map(print)\n",
    ")\n",
    "\n",
    "p1.run()"
   ]
  }
 ],
 "metadata": {
  "kernelspec": {
   "display_name": ".venv",
   "language": "python",
   "name": "python3"
  },
  "language_info": {
   "codemirror_mode": {
    "name": "ipython",
    "version": 3
   },
   "file_extension": ".py",
   "mimetype": "text/x-python",
   "name": "python",
   "nbconvert_exporter": "python",
   "pygments_lexer": "ipython3",
   "version": "3.12.1"
  }
 },
 "nbformat": 4,
 "nbformat_minor": 2
}
